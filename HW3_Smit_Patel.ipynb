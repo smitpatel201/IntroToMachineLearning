{
  "nbformat": 4,
  "nbformat_minor": 0,
  "metadata": {
    "colab": {
      "provenance": [],
      "authorship_tag": "ABX9TyMwAHwE+HAC9phE9NvHt5+e",
      "include_colab_link": true
    },
    "kernelspec": {
      "name": "python3",
      "display_name": "Python 3"
    },
    "language_info": {
      "name": "python"
    }
  },
  "cells": [
    {
      "cell_type": "markdown",
      "metadata": {
        "id": "view-in-github",
        "colab_type": "text"
      },
      "source": [
        "<a href=\"https://colab.research.google.com/github/smitpatel201/IntroToMachineLearning/blob/main/HW3_Smit_Patel.ipynb\" target=\"_parent\"><img src=\"https://colab.research.google.com/assets/colab-badge.svg\" alt=\"Open In Colab\"/></a>"
      ]
    },
    {
      "cell_type": "code",
      "execution_count": 1,
      "metadata": {
        "colab": {
          "base_uri": "https://localhost:8080/",
          "height": 638
        },
        "id": "SHJNdAxzRd2B",
        "outputId": "c66c0fbd-ad4d-4172-954e-2b97d3dcb4a7"
      },
      "outputs": [
        {
          "output_type": "stream",
          "name": "stdout",
          "text": [
            "Mounted at /content/drive\n",
            "Accuracy: 0.6948051948051948\n",
            "Precision: 0.6532658517952636\n",
            "Recall: 0.6948051948051948\n"
          ]
        },
        {
          "output_type": "execute_result",
          "data": {
            "text/plain": [
              "Text(0.5, 427.9555555555555, 'Predicted label')"
            ]
          },
          "metadata": {},
          "execution_count": 1
        },
        {
          "output_type": "display_data",
          "data": {
            "text/plain": [
              "<Figure size 640x480 with 2 Axes>"
            ],
            "image/png": "[encoded data removed]"
          },
          "metadata": {}
        }
      ],
      "source": [
        "# Question 1\n",
        "import numpy as np\n",
        "import matplotlib.pyplot as plt\n",
        "import pandas as pd\n",
        "from google.colab import drive\n",
        "drive.mount('/content/drive')\n",
        "\n",
        "file_path = '/content/drive/My Drive/Colab Notebooks/diabetes.csv'\n",
        "dataset = pd.DataFrame(pd.read_csv(file_path))\n",
        "dataset.head()\n",
        "\n",
        "#In our Data set we’ll consider Age and  EstimatedSalary as Independent variable (X1 and X2) and Purchased as Dependent Variable (Y).\n",
        "X = dataset.iloc[:, [0,7]].values\n",
        "Y = dataset.iloc[:, 8].values\n",
        "#see here: https://pandas.pydata.org/pandas-docs/stable/reference/api/pandas.DataFrame.iloc.html\n",
        "\n",
        "X[0:10]\n",
        "\n",
        "#Now we’ll split our Data set into Training Data and Test Data. Training data will be used to train our\n",
        "#Logistic model and Test data will be used to validate our model. We’ll use Sklearn to split our data. We’ll import  train_test_split from sklearn.model_selection\n",
        "from sklearn.model_selection import train_test_split\n",
        "X_train, X_test, Y_train, Y_test = train_test_split(X, Y, test_size = 0.2, random_state = 0)\n",
        "\n",
        "#Now we’ll do feature scaling to scale our data between 0 and 1 to get better accuracy.\n",
        "#Here Scaling is important because there is a huge difference between Age and EstimatedSalay.\n",
        "\n",
        "from sklearn.preprocessing import StandardScaler\n",
        "sc_X = StandardScaler()\n",
        "X_train = sc_X.fit_transform(X_train)\n",
        "X_test = sc_X.transform(X_test)\n",
        "\n",
        "#Import LogisticRegression from sklearn.linear_model\n",
        "#Make an instance classifier of the object LogisticRegression and give random_state =  0\n",
        "from sklearn.linear_model import LogisticRegression\n",
        "classifier = LogisticRegression(random_state=0)\n",
        "classifier.fit(X_train, Y_train)\n",
        "\n",
        "Y_pred = classifier.predict(X_test)\n",
        "\n",
        "Y_pred[0:9]\n",
        "\n",
        "#Using Confusion matrix we can get accuracy of our model.\n",
        "\n",
        "from sklearn.metrics import confusion_matrix\n",
        "cnf_matrix = confusion_matrix(Y_test, Y_pred)\n",
        "cnf_matrix\n",
        "\n",
        "#Let's evaluate the model using model evaluation metrics such as accuracy, precision, and recall.\n",
        "from sklearn import metrics\n",
        "print(\"Accuracy:\", metrics.accuracy_score(Y_test, Y_pred))\n",
        "print(\"Precision:\", metrics.precision_score(Y_test, Y_pred, average='weighted'))\n",
        "print(\"Recall:\", metrics.recall_score(Y_test, Y_pred, average='weighted'))\n",
        "\n",
        "#Let's visualize the results of the model in the form of a co#nfusion matrix using matplotlib and seaborn.\n",
        "#Here, you will visualize the confusion matrix using Heatmap.\n",
        "import seaborn as sns\n",
        "class_names=[0,1] # name  of classes\n",
        "fig, ax = plt.subplots()\n",
        "tick_marks = np.arange(len(class_names))\n",
        "plt.xticks(tick_marks, class_names)\n",
        "plt.yticks(tick_marks, class_names)\n",
        "# create heatmap\n",
        "sns.heatmap(pd.DataFrame(cnf_matrix), annot=True, cmap=\"YlGnBu\" ,fmt='g')\n",
        "ax.xaxis.set_label_position(\"top\")\n",
        "plt.tight_layout()\n",
        "plt.title('Confusion matrix', y=1.1)\n",
        "plt.ylabel('Actual label')\n",
        "plt.xlabel('Predicted label')\n"
      ]
    },
    {
      "cell_type": "code",
      "execution_count": 2,
      "metadata": {
        "colab": {
          "base_uri": "https://localhost:8080/",
          "height": 638
        },
        "outputId": "bbfd5cda-26b9-4e63-dacc-1dd577e1d87f",
        "id": "IIP1VBsZoSXj"
      },
      "outputs": [
        {
          "output_type": "stream",
          "name": "stdout",
          "text": [
            "Drive already mounted at /content/drive; to attempt to forcibly remount, call drive.mount(\"/content/drive\", force_remount=True).\n",
            "Accuracy: 0.9210526315789473\n",
            "Precision: 0.921514012303486\n",
            "Recall: 0.9210526315789473\n"
          ]
        },
        {
          "output_type": "execute_result",
          "data": {
            "text/plain": [
              "Text(0.5, 427.9555555555555, 'Predicted label')"
            ]
          },
          "metadata": {},
          "execution_count": 2
        },
        {
          "output_type": "display_data",
          "data": {
            "text/plain": [
              "<Figure size 640x480 with 2 Axes>"
            ],
            "image/png": "[encoded data removed]"
          },
          "metadata": {}
        }
      ],
      "source": [
        "# Question 2a\n",
        "import numpy as np\n",
        "import matplotlib.pyplot as plt\n",
        "import pandas as pd\n",
        "from google.colab import drive\n",
        "drive.mount('/content/drive')\n",
        "\n",
        "file_path = '/content/drive/My Drive/Colab Notebooks/cancer.csv'\n",
        "dataset = pd.DataFrame(pd.read_csv(file_path))\n",
        "dataset.head()\n",
        "\n",
        "#In our Data set we’ll consider Age and  EstimatedSalary as Independent variable (X1 and X2) and Purchased as Dependent Variable (Y).\n",
        "X1 = dataset.iloc[:, [2,30]].values\n",
        "Y1 = dataset.iloc[:, 1].values\n",
        "#see here: https://pandas.pydata.org/pandas-docs/stable/reference/api/pandas.DataFrame.iloc.html\n",
        "\n",
        "X[0:10]\n",
        "\n",
        "#Now we’ll split our Data set into Training Data and Test Data. Training data will be used to train our\n",
        "#Logistic model and Test data will be used to validate our model. We’ll use Sklearn to split our data. We’ll import  train_test_split from sklearn.model_selection\n",
        "from sklearn.model_selection import train_test_split\n",
        "X_train1, X_test1, Y_train1, Y_test1 = train_test_split(X1, Y1, test_size = 0.2, random_state = 0)\n",
        "\n",
        "#Now we’ll do feature scaling to scale our data between 0 and 1 to get better accuracy.\n",
        "#Here Scaling is important because there is a huge difference between Age and EstimatedSalay.\n",
        "\n",
        "from sklearn.preprocessing import StandardScaler\n",
        "sc_X = StandardScaler()\n",
        "X_train1 = sc_X.fit_transform(X_train1)\n",
        "X_test1 = sc_X.transform(X_test1)\n",
        "\n",
        "#Import LogisticRegression from sklearn.linear_model\n",
        "#Make an instance classifier of the object LogisticRegression and give random_state =  0\n",
        "from sklearn.linear_model import LogisticRegression\n",
        "classifier = LogisticRegression(random_state=0)\n",
        "classifier.fit(X_train1, Y_train1)\n",
        "\n",
        "Y_pred1 = classifier.predict(X_test1)\n",
        "\n",
        "Y_pred1[0:9]\n",
        "\n",
        "#Using Confusion matrix we can get accuracy of our model.\n",
        "\n",
        "from sklearn.metrics import confusion_matrix\n",
        "cnf_matrix = confusion_matrix(Y_test1, Y_pred1)\n",
        "cnf_matrix\n",
        "\n",
        "#Let's evaluate the model using model evaluation metrics such as accuracy, precision, and recall.\n",
        "from sklearn import metrics\n",
        "print(\"Accuracy:\", metrics.accuracy_score(Y_test1, Y_pred1))\n",
        "print(\"Precision:\", metrics.precision_score(Y_test1, Y_pred1, average='weighted'))\n",
        "print(\"Recall:\", metrics.recall_score(Y_test1, Y_pred1, average='weighted'))\n",
        "\n",
        "#Let's visualize the results of the model in the form of a co#nfusion matrix using matplotlib and seaborn.\n",
        "#Here, you will visualize the confusion matrix using Heatmap.\n",
        "import seaborn as sns\n",
        "class_names=[0,1] # name  of classes\n",
        "fig, ax = plt.subplots()\n",
        "tick_marks = np.arange(len(class_names))\n",
        "plt.xticks(tick_marks, class_names)\n",
        "plt.yticks(tick_marks, class_names)\n",
        "# create heatmap\n",
        "sns.heatmap(pd.DataFrame(cnf_matrix), annot=True, cmap=\"YlGnBu\" ,fmt='g')\n",
        "ax.xaxis.set_label_position(\"top\")\n",
        "plt.tight_layout()\n",
        "plt.title('Confusion matrix', y=1.1)\n",
        "plt.ylabel('Actual label')\n",
        "plt.xlabel('Predicted label')\n"
      ]
    },
    {
      "cell_type": "code",
      "source": [
        "# Question 2b\n",
        "import numpy as np\n",
        "import pandas as pd\n",
        "import matplotlib.pyplot as plt\n",
        "from sklearn.model_selection import KFold\n",
        "from sklearn.model_selection import cross_val_score\n",
        "from sklearn.linear_model import LogisticRegression\n",
        "from sklearn import datasets\n",
        "from sklearn.metrics import confusion_matrix\n",
        "from sklearn.metrics import classification_report\n",
        "from sklearn.model_selection import train_test_split\n",
        "from sklearn.preprocessing import StandardScaler\n",
        "#In our Data set we’ll consider Age and  EstimatedSalary as Independent variable (X1 and X2) and Purchased as Dependent Variable (Y).\n",
        "X2 = dataset.iloc[:, [2,30]].values\n",
        "Y2 = dataset.iloc[:, 1].values"
      ],
      "metadata": {
        "id": "lzwASjJepajQ"
      },
      "execution_count": 3,
      "outputs": []
    },
    {
      "cell_type": "code",
      "source": [
        "X_train2, X_test2, y_train2, y_test2 = train_test_split(X2, Y2, test_size=0.2, random_state=0)"
      ],
      "metadata": {
        "id": "sODQbQvkpnjs"
      },
      "execution_count": 4,
      "outputs": []
    },
    {
      "cell_type": "code",
      "source": [
        "# Create a scaler object\n",
        "sc = StandardScaler()\n",
        "\n",
        "# Fit the scaler to the training data and transform\n",
        "X_train_std2 = sc.fit_transform(X_train2)\n",
        "\n",
        "# Apply the scaler to the test data\n",
        "X_test_std2 = sc.transform(X_test2)"
      ],
      "metadata": {
        "id": "lEmHjqzBpqA1"
      },
      "execution_count": 5,
      "outputs": []
    },
    {
      "cell_type": "code",
      "source": [
        "C = [10, 1, .1, .001]\n",
        "\n",
        "for c in C:\n",
        "    clf = LogisticRegression(penalty='l1', C=c, solver='liblinear')\n",
        "    clf.fit(X_train2, y_train2)\n",
        "    print('C:', c)\n",
        "    print('Training accuracy:', clf.score(X_train_std2, y_train2))\n",
        "    print('Test accuracy:', clf.score(X_test_std2, y_test2))\n",
        "    print('')"
      ],
      "metadata": {
        "colab": {
          "base_uri": "https://localhost:8080/"
        },
        "id": "_Y4NH_Y_psTS",
        "outputId": "dcc7f4fd-7f37-4082-9c3c-1fe93f5787e5"
      },
      "execution_count": 6,
      "outputs": [
        {
          "output_type": "stream",
          "name": "stdout",
          "text": [
            "C: 10\n",
            "Training accuracy: 0.7230769230769231\n",
            "Test accuracy: 0.6929824561403509\n",
            "\n",
            "C: 1\n",
            "Training accuracy: 0.7054945054945055\n",
            "Test accuracy: 0.6666666666666666\n",
            "\n",
            "C: 0.1\n",
            "Training accuracy: 0.6373626373626373\n",
            "Test accuracy: 0.5877192982456141\n",
            "\n",
            "C: 0.001\n",
            "Training accuracy: 0.6373626373626373\n",
            "Test accuracy: 0.5877192982456141\n",
            "\n"
          ]
        },
        {
          "output_type": "stream",
          "name": "stderr",
          "text": [
            "/usr/local/lib/python3.10/dist-packages/sklearn/svm/_base.py:1244: ConvergenceWarning: Liblinear failed to converge, increase the number of iterations.\n",
            "  warnings.warn(\n"
          ]
        }
      ]
    },
    {
      "cell_type": "code",
      "source": [
        "# Construct a confusion matrix\n",
        "test_size = 0.2\n",
        "seed = 0\n",
        "X_train2, X_test2, Y_train2, Y_test2 = train_test_split(X2, Y2, test_size=test_size,\n",
        "random_state=seed)\n",
        "model = LogisticRegression(solver='liblinear')\n",
        "model.fit(X_train2, Y_train2)\n",
        "predicted = model.predict(X_test2)\n",
        "matrix = confusion_matrix(Y_test2, predicted)\n",
        "print(matrix)"
      ],
      "metadata": {
        "colab": {
          "base_uri": "https://localhost:8080/"
        },
        "id": "JYBhnBJPp36D",
        "outputId": "1e1e7158-3144-4f8c-c52a-c4b84ed4c153"
      },
      "execution_count": 7,
      "outputs": [
        {
          "output_type": "stream",
          "name": "stdout",
          "text": [
            "[[66  1]\n",
            " [10 37]]\n"
          ]
        }
      ]
    },
    {
      "cell_type": "code",
      "source": [
        "test_size = 0.2\n",
        "seed = 0\n",
        "X_train2, X_test2, Y_train2, Y_test2 = train_test_split(X2, Y2, test_size=test_size,\n",
        "random_state=seed)\n",
        "model = LogisticRegression(solver='liblinear')\n",
        "model.fit(X_train2, Y_train2)\n",
        "predicted = model.predict(X_test2)\n",
        "report = classification_report(Y_test2, predicted)\n",
        "print(report)"
      ],
      "metadata": {
        "colab": {
          "base_uri": "https://localhost:8080/"
        },
        "id": "YXK3Ekr_rQFS",
        "outputId": "1d843465-f2e6-465e-97dc-b34aa5966294"
      },
      "execution_count": 8,
      "outputs": [
        {
          "output_type": "stream",
          "name": "stdout",
          "text": [
            "              precision    recall  f1-score   support\n",
            "\n",
            "           B       0.87      0.99      0.92        67\n",
            "           M       0.97      0.79      0.87        47\n",
            "\n",
            "    accuracy                           0.90       114\n",
            "   macro avg       0.92      0.89      0.90       114\n",
            "weighted avg       0.91      0.90      0.90       114\n",
            "\n"
          ]
        }
      ]
    },
    {
      "cell_type": "code",
      "source": [
        "#Let's visualize the results of the model in the form of a co#nfusion matrix using matplotlib and seaborn.\n",
        "#Here, you will visualize the confusion matrix using Heatmap.\n",
        "import seaborn as sns\n",
        "from matplotlib.colors import ListedColormap\n",
        "class_names=[0,1] # name  of classes\n",
        "fig, ax = plt.subplots()\n",
        "tick_marks = np.arange(len(class_names))\n",
        "plt.xticks(tick_marks, class_names)\n",
        "plt.yticks(tick_marks, class_names)\n",
        "# create heatmap\n",
        "sns.heatmap(pd.DataFrame(matrix), annot=True, cmap=\"YlGnBu\" ,fmt='g')\n",
        "ax.xaxis.set_label_position(\"top\")\n",
        "plt.tight_layout()\n",
        "plt.title('Confusion matrix', y=1.1)\n",
        "plt.ylabel('Actual label')\n",
        "plt.xlabel('Predicted label')"
      ],
      "metadata": {
        "colab": {
          "base_uri": "https://localhost:8080/",
          "height": 568
        },
        "id": "r8_wW3HNrWbX",
        "outputId": "756092ca-c170-4146-8b04-175687db5dc7"
      },
      "execution_count": 9,
      "outputs": [
        {
          "output_type": "execute_result",
          "data": {
            "text/plain": [
              "Text(0.5, 427.9555555555555, 'Predicted label')"
            ]
          },
          "metadata": {},
          "execution_count": 9
        },
        {
          "output_type": "display_data",
          "data": {
            "text/plain": [
              "<Figure size 640x480 with 2 Axes>"
            ],
            "image/png": "[encoded data removed]"
          },
          "metadata": {}
        }
      ]
    },
    {
      "cell_type": "code",
      "source": [
        "# Question 3\n",
        "from sklearn import datasets\n",
        "from sklearn import metrics\n",
        "from sklearn.naive_bayes import GaussianNB\n",
        "X3 = dataset.iloc[:, [2,30]].values\n",
        "Y3 = dataset.iloc[:, 1].values"
      ],
      "metadata": {
        "id": "uDgjSxU-sjay"
      },
      "execution_count": 10,
      "outputs": []
    },
    {
      "cell_type": "code",
      "source": [
        "X_train3, X_test3, Y_train3, Y_test3 = train_test_split(X3, Y3, test_size=0.2, random_state=0)"
      ],
      "metadata": {
        "id": "RUmd_nYZtEyV"
      },
      "execution_count": 11,
      "outputs": []
    },
    {
      "cell_type": "code",
      "source": [
        "# Create a scaler object\n",
        "sc = StandardScaler()\n",
        "\n",
        "# Fit the scaler to the training data and transform\n",
        "X_train_std3 = sc.fit_transform(X_train3)\n",
        "\n",
        "# Apply the scaler to the test data\n",
        "X_test_std3 = sc.transform(X_test3)"
      ],
      "metadata": {
        "id": "rMgLZNbxtH7P"
      },
      "execution_count": 12,
      "outputs": []
    },
    {
      "cell_type": "code",
      "source": [
        "model = GaussianNB()\n",
        "\n",
        "model.fit(X_train3, Y_train3)\n",
        "# make predictions\n",
        "expected = Y_train3\n",
        "predicted = model.predict(X_test3)\n",
        "# summarize the fit of the model\n",
        "print(metrics.classification_report(Y_test3, predicted))\n",
        "print(metrics.confusion_matrix(Y_test3, predicted))"
      ],
      "metadata": {
        "colab": {
          "base_uri": "https://localhost:8080/"
        },
        "id": "D_BJj7qNt3lX",
        "outputId": "69938f08-5d5e-49aa-8a4e-e87eb3d425b7"
      },
      "execution_count": 13,
      "outputs": [
        {
          "output_type": "stream",
          "name": "stdout",
          "text": [
            "              precision    recall  f1-score   support\n",
            "\n",
            "           B       0.90      0.99      0.94        67\n",
            "           M       0.98      0.85      0.91        47\n",
            "\n",
            "    accuracy                           0.93       114\n",
            "   macro avg       0.94      0.92      0.93       114\n",
            "weighted avg       0.93      0.93      0.93       114\n",
            "\n",
            "[[66  1]\n",
            " [ 7 40]]\n"
          ]
        }
      ]
    },
    {
      "cell_type": "code",
      "source": [
        "from sklearn.metrics import confusion_matrix\n",
        "cnf_matrix = confusion_matrix(Y_test3, predicted)\n",
        "cnf_matrix"
      ],
      "metadata": {
        "colab": {
          "base_uri": "https://localhost:8080/"
        },
        "id": "eBosLKHFwghz",
        "outputId": "6f4c360a-f216-435a-e5ab-395f5c24e261"
      },
      "execution_count": 14,
      "outputs": [
        {
          "output_type": "execute_result",
          "data": {
            "text/plain": [
              "array([[66,  1],\n",
              "       [ 7, 40]])"
            ]
          },
          "metadata": {},
          "execution_count": 14
        }
      ]
    },
    {
      "cell_type": "code",
      "source": [
        "import seaborn as sns\n",
        "from matplotlib.colors import ListedColormap\n",
        "class_names=[0,1] # name  of classes\n",
        "fig, ax = plt.subplots()\n",
        "tick_marks = np.arange(len(class_names))\n",
        "plt.xticks(tick_marks, class_names)\n",
        "plt.yticks(tick_marks, class_names)\n",
        "# create heatmap\n",
        "sns.heatmap(pd.DataFrame(cnf_matrix), annot=True, cmap=\"YlGnBu\" ,fmt='g')\n",
        "ax.xaxis.set_label_position(\"top\")\n",
        "plt.tight_layout()\n",
        "plt.title('Confusion matrix', y=1.1)\n",
        "plt.ylabel('Actual label')\n",
        "plt.xlabel('Predicted label')"
      ],
      "metadata": {
        "colab": {
          "base_uri": "https://localhost:8080/",
          "height": 568
        },
        "id": "axmfSs95vWMq",
        "outputId": "040cb2b0-eaf6-46b1-f776-d870a6914d42"
      },
      "execution_count": 15,
      "outputs": [
        {
          "output_type": "execute_result",
          "data": {
            "text/plain": [
              "Text(0.5, 427.9555555555555, 'Predicted label')"
            ]
          },
          "metadata": {},
          "execution_count": 15
        },
        {
          "output_type": "display_data",
          "data": {
            "text/plain": [
              "<Figure size 640x480 with 2 Axes>"
            ],
            "image/png": "[encoded data removed]"
          },
          "metadata": {}
        }
      ]
    },
    {
      "cell_type": "code",
      "source": [
        "# Question 4\n",
        "import pandas as pd\n",
        "from sklearn.model_selection import train_test_split\n",
        "from sklearn.preprocessing import StandardScaler\n",
        "from sklearn.decomposition import PCA\n",
        "from sklearn.linear_model import LogisticRegression\n",
        "from sklearn.metrics import accuracy_score, precision_score, recall_score, f1_score\n",
        "from sklearn.impute import SimpleImputer\n",
        "\n",
        "# Load the cancer dataset\n",
        "file_path = '/content/drive/My Drive/Colab Notebooks/cancer.csv'\n",
        "dataset = pd.DataFrame(pd.read_csv(file_path))\n",
        "dataset.head()\n",
        "\n",
        "# Impute missing values with the mean of each column\n",
        "imputer = SimpleImputer(strategy='mean')\n",
        "X_train1 = imputer.fit_transform(X_train1)\n",
        "\n",
        "# Standardize the data (important for PCA)\n",
        "scaler = StandardScaler()\n",
        "X_test1 = scaler.fit_transform(X_test1)\n",
        "\n",
        "# Split the dataset\n",
        "X_train3, X_test3, Y_train3, Y_test3 = train_test_split(X3, Y3, test_size=0.2, random_state=0)\n",
        "\n",
        "# Identify optimum number of K principal components\n",
        "max_features = X_test1.shape[1]\n",
        "best_accuracy = 0\n",
        "best_k = 0\n",
        "best_precision = 0\n",
        "best_recall = 0\n",
        "best_f1 = 0\n",
        "\n",
        "for k in range(1, max_features + 1):\n",
        "    # Apply PCA and reduce features\n",
        "    pca = PCA(n_components=k)\n",
        "    X_train_pca = pca.fit_transform(X_train3)\n",
        "    X_test_pca = pca.transform(X_test3)\n",
        "\n",
        "    # Train a logistic regression model\n",
        "    clf = LogisticRegression(max_iter=1000)\n",
        "    clf.fit(X_train_pca, Y_train3)\n",
        "    y_pred = clf.predict(X_test_pca)\n",
        "\n",
        "    accuracy = accuracy_score(Y_test3, y_pred)\n",
        "    if accuracy > best_accuracy:\n",
        "        best_accuracy = accuracy\n",
        "        best_k = k\n",
        "        best_precision = precision_score(Y_test3, y_pred, pos_label='M')  # Specify the positive label\n",
        "        best_recall = recall_score(Y_test3, y_pred, pos_label='M')  # Specify the positive label\n",
        "        best_f1 = f1_score(Y_test3, y_pred, pos_label='M')  # Specify the positive label\n",
        "\n",
        "print(f\"Best K: {best_k}\")\n",
        "print(\"Accuracy for best K: \", best_accuracy)\n",
        "print(\"Precision for best K: \", best_precision)\n",
        "print(\"Recall for best K: \", best_recall)\n",
        "print(\"F1 Score for best K: \", best_f1)"
      ],
      "metadata": {
        "colab": {
          "base_uri": "https://localhost:8080/"
        },
        "id": "IDBimCermUU9",
        "outputId": "52fef6a3-55a5-4582-b4b2-8c25d87486e4"
      },
      "execution_count": 30,
      "outputs": [
        {
          "output_type": "stream",
          "name": "stdout",
          "text": [
            "Best K: 2\n",
            "Accuracy for best K:  0.9210526315789473\n",
            "Precision for best K:  0.9318181818181818\n",
            "Recall for best K:  0.8723404255319149\n",
            "F1 Score for best K:  0.9010989010989012\n"
          ]
        }
      ]
    },
    {
      "cell_type": "code",
      "source": [
        "# Question 5\n",
        "import pandas as pd\n",
        "from sklearn.model_selection import train_test_split\n",
        "from sklearn.preprocessing import StandardScaler\n",
        "from sklearn.decomposition import PCA\n",
        "from sklearn.linear_model import LogisticRegression\n",
        "from sklearn.metrics import accuracy_score, precision_score, recall_score, f1_score\n",
        "from sklearn.impute import SimpleImputer\n",
        "\n",
        "# Load the cancer dataset\n",
        "file_path = '/content/drive/My Drive/Colab Notebooks/cancer.csv'\n",
        "dataset = pd.DataFrame(pd.read_csv(file_path))\n",
        "dataset.head()\n",
        "\n",
        "# Impute missing values with the mean of each column\n",
        "imputer = SimpleImputer(strategy='mean')\n",
        "X_train1 = imputer.fit_transform(X_train1)\n",
        "\n",
        "# Standardize the data (important for PCA)\n",
        "scaler = StandardScaler()\n",
        "X_test1 = scaler.fit_transform(X_test1)\n",
        "\n",
        "# Split the dataset\n",
        "X_train3, X_test3, Y_train3, Y_test3 = train_test_split(X3, Y3, test_size=0.2, random_state=0)\n",
        "\n",
        "# Identify optimum number of K principal components\n",
        "max_features = X_test1.shape[1]\n",
        "best_accuracy = 0\n",
        "best_k = 0\n",
        "best_precision = 0\n",
        "best_recall = 0\n",
        "best_f1 = 0\n",
        "\n",
        "for k in range(1, max_features + 1):\n",
        "    # Apply PCA and reduce features\n",
        "    pca = PCA(n_components=k)\n",
        "    X_train_pca = pca.fit_transform(X_train3)\n",
        "    X_test_pca = pca.transform(X_test3)\n",
        "\n",
        "    # Train a Naive Bayes classifier\n",
        "    clf = GaussianNB()  # Creating the Gaussian Naive Bayes classifier\n",
        "    clf.fit(X_train_pca, Y_train3)\n",
        "    y_pred = clf.predict(X_test_pca)\n",
        "\n",
        "    accuracy = accuracy_score(Y_test3, y_pred)\n",
        "    if accuracy > best_accuracy:\n",
        "        best_accuracy = accuracy\n",
        "        best_k = k\n",
        "        best_precision = precision_score(Y_test3, y_pred, pos_label='M')  # Specify the positive label\n",
        "        best_recall = recall_score(Y_test3, y_pred, pos_label='M')  # Specify the positive label\n",
        "        best_f1 = f1_score(Y_test3, y_pred, pos_label='M')  # Specify the positive label\n",
        "\n",
        "print(f\"Best K: {best_k}\")\n",
        "print(\"Accuracy for best K: \", best_accuracy)\n",
        "print(\"Precision for best K: \", best_precision)\n",
        "print(\"Recall for best K: \", best_recall)\n",
        "print(\"F1 Score for best K: \", best_f1)"
      ],
      "metadata": {
        "colab": {
          "base_uri": "https://localhost:8080/"
        },
        "id": "ozqmfgDPyq_u",
        "outputId": "3299dde2-9446-4624-ad03-533057cabf3b"
      },
      "execution_count": 32,
      "outputs": [
        {
          "output_type": "stream",
          "name": "stdout",
          "text": [
            "Best K: 2\n",
            "Accuracy for best K:  0.9035087719298246\n",
            "Precision for best K:  0.9736842105263158\n",
            "Recall for best K:  0.7872340425531915\n",
            "F1 Score for best K:  0.8705882352941177\n"
          ]
        }
      ]
    }
  ]
}